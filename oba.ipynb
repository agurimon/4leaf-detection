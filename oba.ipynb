{
 "cells": [
  {
   "cell_type": "code",
   "execution_count": 1,
   "metadata": {},
   "outputs": [],
   "source": [
    "import os\n",
    "import cv2\n",
    "import numpy as np\n",
    "from glob import glob\n",
    "import matplotlib.pyplot as plt\n",
    "from tqdm import tqdm"
   ]
  },
  {
   "cell_type": "code",
   "execution_count": 8,
   "metadata": {},
   "outputs": [],
   "source": [
    "os.makedirs('./oba/images', exist_ok=True)\n",
    "os.makedirs('./oba/masks', exist_ok=True)"
   ]
  },
  {
   "cell_type": "code",
   "execution_count": 9,
   "metadata": {},
   "outputs": [],
   "source": [
    "paths = glob('./FLC2019/trainval/JPEGImages_pos/*.jpg')"
   ]
  },
  {
   "cell_type": "code",
   "execution_count": 10,
   "metadata": {},
   "outputs": [
    {
     "name": "stderr",
     "output_type": "stream",
     "text": [
      "100%|██████████| 997/997 [00:58<00:00, 17.00it/s]\n"
     ]
    }
   ],
   "source": [
    "idx = 0\n",
    "\n",
    "for path in tqdm(paths):\n",
    "    path2 = path.replace('JPEGImages_pos', 'SegmentationClass').replace('jpg', 'png')\n",
    "\n",
    "    image = cv2.imread(path)\n",
    "    mask = cv2.imread(path2, cv2.IMREAD_GRAYSCALE)\n",
    "\n",
    "    contours, _ = cv2.findContours(mask.astype(np.uint8), cv2.RETR_EXTERNAL, cv2.CHAIN_APPROX_NONE)\n",
    "\n",
    "    for contour in contours:\n",
    "        x, y, w, h = cv2.boundingRect(contour)\n",
    "        area = cv2.contourArea(contour)\n",
    "\n",
    "        image_ = image[y:y+h,x:x+w]\n",
    "        mask_ = mask[y:y+h,x:x+w]\n",
    "\n",
    "        cv2.imwrite(f'./oba/images/{idx}.png', image_)\n",
    "        cv2.imwrite(f'./oba//masks/{idx}.png', mask_)\n",
    "        idx += 1"
   ]
  },
  {
   "cell_type": "code",
   "execution_count": null,
   "metadata": {},
   "outputs": [],
   "source": []
  }
 ],
 "metadata": {
  "kernelspec": {
   "display_name": "transformers",
   "language": "python",
   "name": "python3"
  },
  "language_info": {
   "codemirror_mode": {
    "name": "ipython",
    "version": 3
   },
   "file_extension": ".py",
   "mimetype": "text/x-python",
   "name": "python",
   "nbconvert_exporter": "python",
   "pygments_lexer": "ipython3",
   "version": "3.9.18"
  }
 },
 "nbformat": 4,
 "nbformat_minor": 2
}
