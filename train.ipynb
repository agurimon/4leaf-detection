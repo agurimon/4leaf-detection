{
 "cells": [
  {
   "cell_type": "code",
   "execution_count": null,
   "metadata": {},
   "outputs": [],
   "source": [
    "import os\n",
    "import random\n",
    "from glob import glob\n",
    "from tqdm import tqdm\n",
    "\n",
    "import cv2\n",
    "import monai\n",
    "import numpy as np\n",
    "import matplotlib.pyplot as plt\n",
    "\n",
    "import torch\n",
    "import torch.optim as optim \n",
    "from torch.utils.data import Dataset\n",
    "from torch.utils.data import DataLoader\n",
    "\n",
    "import segmentation_models_pytorch as smp\n",
    "import albumentations as A\n",
    "from albumentations.pytorch import ToTensorV2\n",
    "from albumentations.core.transforms_interface import DualTransform"
   ]
  },
  {
   "cell_type": "code",
   "execution_count": null,
   "metadata": {},
   "outputs": [],
   "source": [
    "device = 'cuda:0'\n",
    "\n",
    "config = {\n",
    "    'epochs': 30,\n",
    "    'width': 960,\n",
    "    'height': 544,\n",
    "    'batch_size': 4,\n",
    "    'num_workers': 6,\n",
    "    'result_dir': 'result',\n",
    "    'lr': 0.001,\n",
    "    'seed': 1919\n",
    "}"
   ]
  },
  {
   "cell_type": "code",
   "execution_count": null,
   "metadata": {},
   "outputs": [],
   "source": [
    "torch.cuda.manual_seed(config['seed'])\n",
    "torch.manual_seed(config['seed'])\n",
    "np.random.seed(config['seed'])\n",
    "random.seed(config['seed'])"
   ]
  },
  {
   "cell_type": "code",
   "execution_count": null,
   "metadata": {},
   "outputs": [],
   "source": [
    "def dice_score(prediction: np.array, ground_truth: np.array, smooth=1e-7) -> float:\n",
    "    intersection = np.sum(prediction * ground_truth)\n",
    "    return (2.0 * intersection + smooth) / (np.sum(prediction) + np.sum(ground_truth) + smooth)"
   ]
  },
  {
   "cell_type": "code",
   "execution_count": null,
   "metadata": {},
   "outputs": [],
   "source": [
    "paths = glob(f'./oba/images/*.png')\n",
    "\n",
    "class OBA(DualTransform):\n",
    "    def apply(self, img, n, x, y, **params):\n",
    "        try:\n",
    "            if len(img.shape) == 3:\n",
    "                obj_image = cv2.imread(paths[n])\n",
    "                obj_image = cv2.cvtColor(obj_image, cv2.COLOR_BGR2RGB)\n",
    "                obj_mask = cv2.imread(paths[n].replace('images', 'masks'), cv2.IMREAD_GRAYSCALE)\n",
    "\n",
    "                h, w, _ = obj_image.shape\n",
    "                img_h, img_w, _ = img.shape\n",
    "                x = min(x, img_w - w)\n",
    "                y = min(y, img_h - h)\n",
    "\n",
    "                img_ = img[y:y+h,x:x+w]\n",
    "                img_ = cv2.copyTo(obj_image, obj_mask, img_)\n",
    "                img[y:y+h,x:x+w] = img_\n",
    "\n",
    "                return img\n",
    "            \n",
    "            else:\n",
    "                obj_mask = cv2.imread(paths[n].replace('images', 'masks'), cv2.IMREAD_GRAYSCALE)\n",
    "\n",
    "                h, w = obj_mask.shape\n",
    "                img_h, img_w = img.shape\n",
    "\n",
    "                x = min(x, img_w - w)\n",
    "                y = min(y, img_h - h)\n",
    "\n",
    "                img[y:y+h, x:x+w] = obj_mask[0:h, 0:w]\n",
    "                img[img != 0] = 1\n",
    "\n",
    "                return img\n",
    "        except:\n",
    "            return img\n",
    "    \n",
    "    def get_params(self):\n",
    "        return {\n",
    "            'n': np.random.randint(len(paths)),\n",
    "            'x': np.random.randint(50, 700),\n",
    "            'y': np.random.randint(50, 300)\n",
    "        }"
   ]
  },
  {
   "cell_type": "code",
   "execution_count": null,
   "metadata": {},
   "outputs": [],
   "source": [
    "class CustomDataset(Dataset):\n",
    "    def __init__(self, image_paths, label_paths, transform):\n",
    "        super().__init__()\n",
    "\n",
    "        self.image_paths = image_paths\n",
    "        self.label_paths = label_paths\n",
    "        self.transform = transform\n",
    "\n",
    "    \n",
    "    def __len__(self):\n",
    "        return len(self.image_paths)\n",
    "    \n",
    "\n",
    "    def __getitem__(self, idx):\n",
    "        image = cv2.imread(self.image_paths[idx])\n",
    "        image = cv2.cvtColor(image, cv2.COLOR_BGR2RGB)\n",
    "\n",
    "        path = self.image_paths[idx].replace('JPEGImages_pos', 'SegmentationClass').replace('jpg', 'png')\n",
    "        mask = cv2.imread(path, cv2.IMREAD_GRAYSCALE)\n",
    "\n",
    "        if image.shape[:2] != mask.shape:\n",
    "            mask = mask.reshape(image.shape[0], image.shape[1])\n",
    "\n",
    "        mask[mask != 0] = 1\n",
    "        augmented = self.transform(image=image, mask=mask)\n",
    "        image = augmented['image']\n",
    "        mask = augmented['mask']\n",
    "\n",
    "        return image, mask"
   ]
  },
  {
   "cell_type": "code",
   "execution_count": null,
   "metadata": {},
   "outputs": [],
   "source": [
    "train_transform = A.Compose([\n",
    "    A.Rotate(limit=90, p=0.5),\n",
    "    A.VerticalFlip(p=0.5),\n",
    "    A.HorizontalFlip(p=0.5),\n",
    "\n",
    "    A.OneOf([\n",
    "        A.Compose([\n",
    "            A.RandomCrop(int(config['height']*1.9), int(config['width']*1.9)),\n",
    "            A.Resize(config['height'], config['width'])\n",
    "        ]),\n",
    "        A.Compose([\n",
    "            A.RandomCrop(int(config['height']*1.5), int(config['width']*1.5)),\n",
    "            A.Resize(config['height'], config['width'])\n",
    "        ]),\n",
    "        A.Compose([\n",
    "            A.LongestMaxSize(max_size=config['width']),\n",
    "            A.PadIfNeeded(min_height=config['height'], min_width=config['width'], border_mode=cv2.BORDER_CONSTANT),\n",
    "            A.RandomCrop(height=config['height'], width=config['width']),\n",
    "        ]),\n",
    "        A.Compose([\n",
    "            A.LongestMaxSize(max_size=1800),\n",
    "            A.PadIfNeeded(min_height=config['height'], min_width=1800, border_mode=cv2.BORDER_CONSTANT),\n",
    "            A.RandomCrop(config['height'], config['width'], p=1)\n",
    "        ]),\n",
    "        A.RandomCrop(config['height'], config['width'], p=1),\n",
    "    ], p=1),\n",
    "\n",
    "    OBA(p=1),\n",
    "    OBA(p=1),\n",
    "    OBA(p=1),\n",
    "    A.Normalize(),\n",
    "    ToTensorV2(),\n",
    "])\n",
    "\n",
    "test_transform = A.Compose([\n",
    "    A.OneOf([\n",
    "        A.Compose([\n",
    "            A.RandomCrop(int(config['height']*1.9), int(config['width']*1.9)),\n",
    "            A.Resize(config['height'], config['width'])\n",
    "        ]),\n",
    "        A.Compose([\n",
    "            A.RandomCrop(int(config['height']*1.5), int(config['width']*1.5)),\n",
    "            A.Resize(config['height'], config['width'])\n",
    "        ]),\n",
    "        A.Compose([\n",
    "            A.LongestMaxSize(max_size=config['width']),\n",
    "            A.PadIfNeeded(min_height=config['height'], min_width=config['width'], border_mode=cv2.BORDER_CONSTANT),\n",
    "            A.RandomCrop(height=config['height'], width=config['width']),\n",
    "        ]),\n",
    "        A.Compose([\n",
    "            A.LongestMaxSize(max_size=1800),\n",
    "            A.PadIfNeeded(min_height=config['height'], min_width=1800, border_mode=cv2.BORDER_CONSTANT),\n",
    "            A.RandomCrop(config['height'], config['width'], p=1)\n",
    "        ]),\n",
    "        A.RandomCrop(config['height'], config['width'], p=1),\n",
    "    ], p=1),\n",
    "    A.Normalize(),\n",
    "    ToTensorV2(),\n",
    "])"
   ]
  },
  {
   "cell_type": "code",
   "execution_count": null,
   "metadata": {},
   "outputs": [],
   "source": [
    "device = torch.device('cuda' if torch.cuda.is_available() else 'cpu')\n",
    "\n",
    "image_train_paths = sorted(glob('./FLC2019/trainval/JPEGImages_pos/*.jpg'))\n",
    "label_train_paths = sorted(glob('./FLC2019/trainval/SegmentationClass/*.png'))\n",
    "\n",
    "image_test_paths = sorted(glob('./FLC2019/test/JPEGImages_pos/*.jpg'))\n",
    "label_test_paths = sorted(glob('./FLC2019/test/SegmentationClass/*.png'))"
   ]
  },
  {
   "cell_type": "code",
   "execution_count": null,
   "metadata": {},
   "outputs": [],
   "source": [
    "print(f'train image counts : {len(image_train_paths)}')\n",
    "print(f'train true label counts : {len(label_train_paths)}')\n",
    "print(f'test image counts : {len(image_test_paths)}')\n",
    "print(f'test true label counts : {len(label_test_paths)}')"
   ]
  },
  {
   "cell_type": "code",
   "execution_count": null,
   "metadata": {},
   "outputs": [],
   "source": [
    "train_dataset = CustomDataset(image_train_paths, label_train_paths, transform=train_transform)\n",
    "test_dataset = CustomDataset(image_test_paths, label_test_paths, transform=test_transform)\n",
    "\n",
    "train_dataloader = DataLoader(dataset=train_dataset, \n",
    "                            batch_size=config['batch_size'],\n",
    "                            num_workers=config['num_workers'], \n",
    "                            shuffle=True)\n",
    "\n",
    "test_dataloader = DataLoader(dataset=test_dataset, \n",
    "                            batch_size=config['batch_size'], \n",
    "                            num_workers=config['num_workers'], \n",
    "                            shuffle=False)"
   ]
  },
  {
   "cell_type": "code",
   "execution_count": null,
   "metadata": {},
   "outputs": [],
   "source": [
    "model = smp.UnetPlusPlus(\n",
    "    encoder_name=\"efficientnet-b0\",\n",
    "    encoder_weights=\"imagenet\",\n",
    "    in_channels=3,\n",
    "    classes=1,\n",
    ").to(device)\n",
    "\n",
    "\n",
    "# model = smp.DeepLabV3Plus(\n",
    "#     encoder_name=\"efficientnet-b0\",\n",
    "#     encoder_weights=\"imagenet\",\n",
    "#     in_channels=3,\n",
    "#     classes=1,\n",
    "# ).to(device)\n",
    "\n",
    "# loss_fn = monai.losses.DiceLoss()\n",
    "loss_fn = torch.nn.BCEWithLogitsLoss()\n",
    "optimizer = optim.SGD(model.parameters(), lr=config['lr'])"
   ]
  },
  {
   "cell_type": "code",
   "execution_count": null,
   "metadata": {},
   "outputs": [],
   "source": [
    "for epoch in range(config['epochs']):\n",
    "    train_losses, val_losses, train_scores, val_scores = [], [], [], []\n",
    "    \n",
    "    model.train()\n",
    "    for images, labels in tqdm(train_dataloader):\n",
    "        images = images.to(device)\n",
    "        labels = labels.type(torch.cuda.FloatTensor)\n",
    "\n",
    "        optimizer.zero_grad()\n",
    "        outputs = model(images)\n",
    "\n",
    "        seg_prob = torch.sigmoid(outputs).detach().cpu().numpy().squeeze()\n",
    "        seg = (seg_prob > 0.5).astype(np.uint8)\n",
    "        score = dice_score(seg, labels.detach().cpu().numpy())\n",
    "        train_scores.append(score)\n",
    "\n",
    "        loss = loss_fn(outputs, labels.unsqueeze(1))\n",
    "        train_losses.append(loss.item())\n",
    "        loss.backward()\n",
    "        optimizer.step()\n",
    "\n",
    "    model.eval()\n",
    "    with torch.no_grad():\n",
    "        for images, labels in tqdm(test_dataloader):\n",
    "            images = images.to(device)\n",
    "            labels = labels.type(torch.cuda.FloatTensor)\n",
    "\n",
    "            outputs = model(images)\n",
    "\n",
    "            loss = loss_fn(outputs, labels.unsqueeze(1))\n",
    "            seg_prob = torch.sigmoid(outputs).detach().cpu().numpy().squeeze()\n",
    "            seg = (seg_prob > 0.5).astype(np.uint8)\n",
    "\n",
    "            score = dice_score(seg, labels.detach().cpu().numpy())\n",
    "            val_scores.append(score)\n",
    "\n",
    "            val_losses.append(loss.item())\n",
    "\n",
    "        print(f'[{epoch}/{config[\"epochs\"]-1}], train_loss: {np.mean(train_losses)}, val_loss: {np.mean(val_losses)}, train_dice: {np.mean(train_scores)}, val_dice: {np.mean(val_scores)}')"
   ]
  },
  {
   "cell_type": "code",
   "execution_count": null,
   "metadata": {},
   "outputs": [],
   "source": [
    "torch.save(model.state_dict(), './weights/unetpp_4leaf.pth')"
   ]
  },
  {
   "cell_type": "code",
   "execution_count": null,
   "metadata": {},
   "outputs": [],
   "source": [
    "image = cv2.imread('./FLC2019/test/1_000007.jpg')\n",
    "image = cv2.cvtColor(image, cv2.COLOR_BGR2RGB)\n",
    "\n",
    "image = image[950:950+config['height'], 2300:2300+config['width']]"
   ]
  },
  {
   "cell_type": "code",
   "execution_count": null,
   "metadata": {},
   "outputs": [],
   "source": [
    "test_transform = A.Compose([\n",
    "    A.Normalize(),\n",
    "    ToTensorV2(),\n",
    "])"
   ]
  },
  {
   "cell_type": "code",
   "execution_count": null,
   "metadata": {},
   "outputs": [],
   "source": [
    "image_ = test_transform(image=image)\n",
    "image_ = image_['image']\n",
    "image_ = image_.unsqueeze(0)\n",
    "image_ = image_.to(device)"
   ]
  },
  {
   "cell_type": "code",
   "execution_count": null,
   "metadata": {},
   "outputs": [],
   "source": [
    "outputs = model(image_)"
   ]
  },
  {
   "cell_type": "code",
   "execution_count": null,
   "metadata": {},
   "outputs": [],
   "source": [
    "seg_prob = torch.sigmoid(outputs).detach().cpu().numpy().squeeze()\n",
    "seg = (seg_prob > 0.5).astype(np.uint8)"
   ]
  },
  {
   "cell_type": "code",
   "execution_count": null,
   "metadata": {},
   "outputs": [],
   "source": [
    "fig, axes = plt.subplots(1, 2, figsize=(12, 6))\n",
    "axes[0].imshow(image)\n",
    "axes[1].imshow(seg)\n",
    "plt.show()"
   ]
  },
  {
   "cell_type": "code",
   "execution_count": null,
   "metadata": {},
   "outputs": [],
   "source": []
  }
 ],
 "metadata": {
  "kernelspec": {
   "display_name": "transformers",
   "language": "python",
   "name": "python3"
  },
  "language_info": {
   "codemirror_mode": {
    "name": "ipython",
    "version": 3
   },
   "file_extension": ".py",
   "mimetype": "text/x-python",
   "name": "python",
   "nbconvert_exporter": "python",
   "pygments_lexer": "ipython3",
   "version": "3.9.18"
  }
 },
 "nbformat": 4,
 "nbformat_minor": 2
}
